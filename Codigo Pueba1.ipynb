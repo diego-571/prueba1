{
 "cells": [
  {
   "cell_type": "markdown",
   "id": "dc5b2706-4556-462b-ac37-2006def5547f",
   "metadata": {},
   "source": [
    "# primer código"
   ]
  },
  {
   "cell_type": "code",
   "execution_count": 1,
   "id": "a4c3d8fc-cd1e-4e6b-a3db-d0e8b09c1db9",
   "metadata": {},
   "outputs": [],
   "source": [
    "x=10 \n",
    "y=20 \n",
    "z=x+y"
   ]
  },
  {
   "cell_type": "code",
   "execution_count": 2,
   "id": "90bffbeb-9270-4e4e-8f08-9177133c2c7a",
   "metadata": {},
   "outputs": [
    {
     "data": {
      "text/plain": [
       "30"
      ]
     },
     "execution_count": 2,
     "metadata": {},
     "output_type": "execute_result"
    }
   ],
   "source": [
    "z"
   ]
  },
  {
   "cell_type": "code",
   "execution_count": null,
   "id": "babbb17d-dd46-44eb-8a4e-af8759571e04",
   "metadata": {},
   "outputs": [],
   "source": []
  }
 ],
 "metadata": {
  "kernelspec": {
   "display_name": "Python 3 (ipykernel)",
   "language": "python",
   "name": "python3"
  },
  "language_info": {
   "codemirror_mode": {
    "name": "ipython",
    "version": 3
   },
   "file_extension": ".py",
   "mimetype": "text/x-python",
   "name": "python",
   "nbconvert_exporter": "python",
   "pygments_lexer": "ipython3",
   "version": "3.11.7"
  }
 },
 "nbformat": 4,
 "nbformat_minor": 5
}
